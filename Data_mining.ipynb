{
 "cells": [
  {
   "cell_type": "code",
   "execution_count": 2,
   "metadata": {},
   "outputs": [],
   "source": [
    "from bs4 import BeautifulSoup\n",
    "import requests"
   ]
  },
  {
   "cell_type": "code",
   "execution_count": 16,
   "metadata": {},
   "outputs": [
    {
     "name": "stdout",
     "output_type": "stream",
     "text": [
      "Python Tutorial: Zip Files – Creating and Extracting Zip Archives\n"
     ]
    }
   ],
   "source": [
    "source=requests.get('https://coreyms.com/').text\n",
    "soup=BeautifulSoup(source,\"lxml\")\n",
    "article=soup.find('article')\n",
    "\n",
    "#print(article.prettify())\n",
    "headline=article.h2.a.text\n",
    "print(headline)"
   ]
  },
  {
   "cell_type": "code",
   "execution_count": 17,
   "metadata": {},
   "outputs": [
    {
     "name": "stdout",
     "output_type": "stream",
     "text": [
      "In this video, we will be learning how to create and extract zip archives. We will start by using the zipfile module, and then we will see how to do this using the shutil module. We will learn how to do this with single files and directories, as well as learning how to use gzip as well. Let’s get started…\n"
     ]
    }
   ],
   "source": [
    "summary=article.find('div',class_='entry-content').p.text\n",
    "print(summary)"
   ]
  },
  {
   "cell_type": "code",
   "execution_count": 26,
   "metadata": {},
   "outputs": [
    {
     "name": "stdout",
     "output_type": "stream",
     "text": [
      "https://www.youtube.com/embed/z0gguhEmWiY?version=3&rel=1&showsearch=0&showinfo=1&iv_load_policy=1&fs=1&hl=en-US&autohide=2&wmode=transparent\n"
     ]
    }
   ],
   "source": [
    "#print(article.prettify())\n",
    "vid_src=article.find('iframe',class_='youtube-player')['src']\n",
    "\n",
    "print(vid_src)\n"
   ]
  },
  {
   "cell_type": "code",
   "execution_count": 28,
   "metadata": {},
   "outputs": [
    {
     "name": "stdout",
     "output_type": "stream",
     "text": [
      "['https:', '', 'www.youtube.com', 'embed', 'z0gguhEmWiY?version=3&rel=1&showsearch=0&showinfo=1&iv_load_policy=1&fs=1&hl=en-US&autohide=2&wmode=transparent']\n"
     ]
    }
   ],
   "source": [
    "vid_id=vid_src.split('/') # split link\n",
    "print(vid_id)"
   ]
  },
  {
   "cell_type": "code",
   "execution_count": 33,
   "metadata": {},
   "outputs": [
    {
     "name": "stdout",
     "output_type": "stream",
     "text": [
      "z0gguhEmWiY\n"
     ]
    }
   ],
   "source": [
    "#for video id \n",
    "vid_id=vid_src.split('/')[4]\n",
    "vid_id=vid_id.split('?')[0]\n",
    "\n",
    "print(vid_id)\n"
   ]
  },
  {
   "cell_type": "code",
   "execution_count": 44,
   "metadata": {},
   "outputs": [
    {
     "name": "stdout",
     "output_type": "stream",
     "text": [
      "https:/youtube.com/watch?v=(vid_id)\n"
     ]
    }
   ],
   "source": [
    "vid_id=vid_src.split('/')[4]\n",
    "vid_id=vid_id.split('?')[0]\n",
    "y_link=f'https:/youtube.com/watch?v=(vid_id)'\n",
    "print(y_link)"
   ]
  },
  {
   "cell_type": "code",
   "execution_count": 55,
   "metadata": {},
   "outputs": [
    {
     "name": "stdout",
     "output_type": "stream",
     "text": [
      "Python Tutorial: Zip Files – Creating and Extracting Zip Archives\n",
      "In this video, we will be learning how to create and extract zip archives. We will start by using the zipfile module, and then we will see how to do this using the shutil module. We will learn how to do this with single files and directories, as well as learning how to use gzip as well. Let’s get started…\n",
      "https:/youtube.com/watch?v=(vid_id)\n",
      "https:/youtube.com/watch?v=(vid_id)\n",
      "\n",
      "Python Data Science Tutorial: Analyzing the 2019 Stack Overflow Developer Survey\n",
      "In this Python Programming video, we will be learning how to download and analyze real-world data from the 2019 Stack Overflow Developer Survey. This is terrific practice for anyone getting into the data science field. We will learn different ways to analyze this data and also some best practices. Let’s get started…\n",
      "https:/youtube.com/watch?v=(vid_id)\n",
      "https:/youtube.com/watch?v=(vid_id)\n",
      "\n",
      "Python Multiprocessing Tutorial: Run Code in Parallel Using the Multiprocessing Module\n",
      "In this Python Programming video, we will be learning how to run code in parallel using the multiprocessing module. We will also look at how to process multiple high-resolution images at the same time using a ProcessPoolExecutor from the concurrent.futures module. Let’s get started…\n",
      "https:/youtube.com/watch?v=(vid_id)\n",
      "https:/youtube.com/watch?v=(vid_id)\n",
      "\n",
      "Python Threading Tutorial: Run Code Concurrently Using the Threading Module\n",
      "In this Python Programming video, we will be learning how to run threads concurrently using the threading module. We will also look at how to download multiple high-resolution images online using a ThreadPoolExecutor from the concurrent.futures module. Let’s get started…\n",
      "https:/youtube.com/watch?v=(vid_id)\n",
      "https:/youtube.com/watch?v=(vid_id)\n",
      "\n",
      "Update (2019-09-03)\n",
      "Hey everyone. I wanted to give you an update on my videos. I will be releasing videos on threading and multiprocessing within the next week. Thanks so much for your patience. I currently have a temporary recording studio setup at my Airbnb that will allow me to record and edit the threading/multiprocessing videos. I am going to be moving into my new house in 10 days and once I have my recording studio setup then you can expect much faster video releases. I really appreciate how patient everyone has been while I go through this move, especially those of you who are contributing monthly through YouTube \n",
      "https:/youtube.com/watch?v=(vid_id)\n",
      "None\n",
      "\n",
      "Python Quick Tip: The Difference Between “==” and “is” (Equality vs Identity)\n",
      "In this Python Programming Tutorial, we will be learning the difference between using “==” and the “is” keyword when doing comparisons. The difference between these is that “==” checks to see if values are equal, and the “is” keyword checks their identity, which means it’s going to check if the values are identical in terms of being the same object in memory. We’ll learn more in the video. Let’s get started…\n",
      "None\n",
      "https:/youtube.com/watch?v=(vid_id)\n",
      "\n",
      "Python Tutorial: Calling External Commands Using the Subprocess Module\n",
      "In this Python Programming Tutorial, we will be learning how to run external commands using the subprocess module from the standard library. We will learn how to run commands, capture the output, handle errors, and also how to pipe output into other commands. Let’s get started…\n",
      "https:/youtube.com/watch?v=(vid_id)\n",
      "https:/youtube.com/watch?v=(vid_id)\n",
      "\n",
      "Visual Studio Code (Windows) – Setting up a Python Development Environment and Complete Overview\n",
      "In this Python Programming Tutorial, we will be learning how to set up a Python development environment in VSCode on Windows. VSCode is a very nice free editor for writing Python applications and many developers are now switching over to this editor. In this video, we will learn how to install VSCode, get the Python extension installed, how to change Python interpreters, create virtual environments, format/lint our code, how to use Git within VSCode, how to debug our programs, how unit testing works, and more. We have a lot to cover, so let’s go ahead and get started…\n",
      "https:/youtube.com/watch?v=(vid_id)\n",
      "https:/youtube.com/watch?v=(vid_id)\n",
      "\n",
      "Visual Studio Code (Mac) – Setting up a Python Development Environment and Complete Overview\n",
      "In this Python Programming Tutorial, we will be learning how to set up a Python development environment in VSCode on MacOS. VSCode is a very nice free editor for writing Python applications and many developers are now switching over to this editor. In this video, we will learn how to install VSCode, get the Python extension installed, how to change Python interpreters, create virtual environments, format/lint our code, how to use Git within VSCode, how to debug our programs, how unit testing works, and more. We have a lot to cover, so let’s go ahead and get started…\n",
      "https:/youtube.com/watch?v=(vid_id)\n",
      "https:/youtube.com/watch?v=(vid_id)\n",
      "\n",
      "Clarifying the Issues with Mutable Default Arguments\n",
      "In this Python Programming Tutorial, we will be clarifying the issues with mutable default arguments. We discussed this in my last video titled “5 Common Python Mistakes and How to Fix Them”, but I received many comments from people who were still confused. So we will be doing a deeper dive to explain exactly what is going on here. Let’s get started…\n",
      "https:/youtube.com/watch?v=(vid_id)\n",
      "https:/youtube.com/watch?v=(vid_id)\n",
      "\n"
     ]
    }
   ],
   "source": [
    "#for all article we use for loop\n",
    "from bs4 import BeautifulSoup\n",
    "import requests\n",
    "import csv\n",
    "source=requests.get('https://coreyms.com/').text\n",
    "soup=BeautifulSoup(source,\"lxml\")\n",
    "\n",
    "csv_file=open('scrap.csv','w')\n",
    "\n",
    "csv_writer=csv.writer(csv_file)\n",
    "csv_writer.writerow(['headline','summary','video_link'])\n",
    "\n",
    "for article in soup.find_all('article'):\n",
    "\n",
    "    #print(article.prettify())\n",
    "    headline=article.h2.a.text\n",
    "    print(headline)\n",
    "    summary=article.find('div',class_='entry-content').p.text\n",
    "    print(summary)\n",
    "   \n",
    "    print(y_link)\n",
    "    try:\n",
    "        vid_src=article.find('iframe',class_='youtube-player')['src']\n",
    "        vid_id=vid_src.split('/')[4]\n",
    "        vid_id=vid_id.split('?')[0]\n",
    "        y_link=f'https:/youtube.com/watch?v=(vid_id)'\n",
    "    except Exception as e:\n",
    "        y_link=None\n",
    "    print(y_link)\n",
    "    print()\n",
    "    \n",
    "    csv_writer.writerow([headline,summary,y_link])\n",
    "    \n",
    "csv_file.close()\n"
   ]
  },
  {
   "cell_type": "code",
   "execution_count": 68,
   "metadata": {},
   "outputs": [
    {
     "name": "stdout",
     "output_type": "stream",
     "text": [
      "<span class=\"btn-close btn-close-popup\">\n",
      " <img alt=\"close\" data-lazy-src=\"https://gradesfixer.com/wp-content/themes/essay/img/close-blue.svg\" src=\"data:image/svg+xml,%3Csvg%20xmlns='http://www.w3.org/2000/svg'%20viewBox='0%200%200%200'%3E%3C/svg%3E\" title=\"close\"/>\n",
      " <noscript>\n",
      "  <img alt=\"close\" src=\"https://gradesfixer.com/wp-content/themes/essay/img/close-blue.svg\" title=\"close\"/>\n",
      " </noscript>\n",
      "</span>\n",
      "\n"
     ]
    },
    {
     "ename": "AttributeError",
     "evalue": "'NoneType' object has no attribute 'text'",
     "output_type": "error",
     "traceback": [
      "\u001b[0;31m---------------------------------------------------------------------------\u001b[0m",
      "\u001b[0;31mAttributeError\u001b[0m                            Traceback (most recent call last)",
      "\u001b[0;32m<ipython-input-68-dd355c54dd0b>\u001b[0m in \u001b[0;36m<module>\u001b[0;34m\u001b[0m\n\u001b[1;32m      4\u001b[0m \u001b[0;34m\u001b[0m\u001b[0m\n\u001b[1;32m      5\u001b[0m \u001b[0mprint\u001b[0m\u001b[0;34m(\u001b[0m\u001b[0marticle\u001b[0m\u001b[0;34m.\u001b[0m\u001b[0mprettify\u001b[0m\u001b[0;34m(\u001b[0m\u001b[0;34m)\u001b[0m\u001b[0;34m)\u001b[0m\u001b[0;34m\u001b[0m\u001b[0;34m\u001b[0m\u001b[0m\n\u001b[0;32m----> 6\u001b[0;31m \u001b[0mheadline\u001b[0m\u001b[0;34m=\u001b[0m\u001b[0marticle\u001b[0m\u001b[0;34m.\u001b[0m\u001b[0mh1\u001b[0m\u001b[0;34m.\u001b[0m\u001b[0mtext\u001b[0m\u001b[0;34m\u001b[0m\u001b[0;34m\u001b[0m\u001b[0m\n\u001b[0m\u001b[1;32m      7\u001b[0m \u001b[0;31m#print(headline)\u001b[0m\u001b[0;34m\u001b[0m\u001b[0;34m\u001b[0m\u001b[0;34m\u001b[0m\u001b[0m\n",
      "\u001b[0;31mAttributeError\u001b[0m: 'NoneType' object has no attribute 'text'"
     ]
    }
   ],
   "source": [
    "source=requests.get('https://gradesfixer.com/free-essay-examples/masters-study-plan-study-plan-for-master-degree-program/').text\n",
    "soup=BeautifulSoup(source,\"lxml\")\n"
   ]
  },
  {
   "cell_type": "code",
   "execution_count": null,
   "metadata": {},
   "outputs": [],
   "source": [
    "summary=article.find('div',class_='entry-content').p.text\n",
    "print(summary)"
   ]
  }
 ],
 "metadata": {
  "kernelspec": {
   "display_name": "Python 3",
   "language": "python",
   "name": "python3"
  },
  "language_info": {
   "codemirror_mode": {
    "name": "ipython",
    "version": 3
   },
   "file_extension": ".py",
   "mimetype": "text/x-python",
   "name": "python",
   "nbconvert_exporter": "python",
   "pygments_lexer": "ipython3",
   "version": "3.7.4"
  }
 },
 "nbformat": 4,
 "nbformat_minor": 2
}
